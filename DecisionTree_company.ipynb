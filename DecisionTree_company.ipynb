{
 "cells": [
  {
   "cell_type": "code",
   "execution_count": 38,
   "id": "7f32643b",
   "metadata": {
    "ExecuteTime": {
     "end_time": "2021-09-06T10:41:09.353400Z",
     "start_time": "2021-09-06T10:41:09.342947Z"
    }
   },
   "outputs": [],
   "source": [
    "import pandas as pd\n",
    "import matplotlib.pyplot as plt\n",
    "from sklearn.model_selection import train_test_split\n",
    "from sklearn.tree import DecisionTreeClassifier\n",
    "from sklearn.model_selection import train_test_split \n",
    "from sklearn.metrics import accuracy_score\n",
    "from sklearn.ensemble import BaggingClassifier \n",
    "from sklearn.ensemble import AdaBoostClassifier \n",
    "from sklearn.metrics import classification_report, confusion_matrix"
   ]
  },
  {
   "cell_type": "code",
   "execution_count": 5,
   "id": "c692630d",
   "metadata": {
    "ExecuteTime": {
     "end_time": "2021-09-06T10:24:05.861508Z",
     "start_time": "2021-09-06T10:24:05.812483Z"
    }
   },
   "outputs": [],
   "source": [
    "company=pd.read_csv(\"Company_Data.csv\")"
   ]
  },
  {
   "cell_type": "code",
   "execution_count": 6,
   "id": "3ec9b128",
   "metadata": {
    "ExecuteTime": {
     "end_time": "2021-09-06T10:24:18.274372Z",
     "start_time": "2021-09-06T10:24:18.193869Z"
    }
   },
   "outputs": [
    {
     "data": {
      "text/html": [
       "<div>\n",
       "<style scoped>\n",
       "    .dataframe tbody tr th:only-of-type {\n",
       "        vertical-align: middle;\n",
       "    }\n",
       "\n",
       "    .dataframe tbody tr th {\n",
       "        vertical-align: top;\n",
       "    }\n",
       "\n",
       "    .dataframe thead th {\n",
       "        text-align: right;\n",
       "    }\n",
       "</style>\n",
       "<table border=\"1\" class=\"dataframe\">\n",
       "  <thead>\n",
       "    <tr style=\"text-align: right;\">\n",
       "      <th></th>\n",
       "      <th>Sales</th>\n",
       "      <th>CompPrice</th>\n",
       "      <th>Income</th>\n",
       "      <th>Advertising</th>\n",
       "      <th>Population</th>\n",
       "      <th>Price</th>\n",
       "      <th>ShelveLoc</th>\n",
       "      <th>Age</th>\n",
       "      <th>Education</th>\n",
       "      <th>Urban</th>\n",
       "      <th>US</th>\n",
       "    </tr>\n",
       "  </thead>\n",
       "  <tbody>\n",
       "    <tr>\n",
       "      <th>0</th>\n",
       "      <td>9.50</td>\n",
       "      <td>138</td>\n",
       "      <td>73</td>\n",
       "      <td>11</td>\n",
       "      <td>276</td>\n",
       "      <td>120</td>\n",
       "      <td>Bad</td>\n",
       "      <td>42</td>\n",
       "      <td>17</td>\n",
       "      <td>Yes</td>\n",
       "      <td>Yes</td>\n",
       "    </tr>\n",
       "    <tr>\n",
       "      <th>1</th>\n",
       "      <td>11.22</td>\n",
       "      <td>111</td>\n",
       "      <td>48</td>\n",
       "      <td>16</td>\n",
       "      <td>260</td>\n",
       "      <td>83</td>\n",
       "      <td>Good</td>\n",
       "      <td>65</td>\n",
       "      <td>10</td>\n",
       "      <td>Yes</td>\n",
       "      <td>Yes</td>\n",
       "    </tr>\n",
       "    <tr>\n",
       "      <th>2</th>\n",
       "      <td>10.06</td>\n",
       "      <td>113</td>\n",
       "      <td>35</td>\n",
       "      <td>10</td>\n",
       "      <td>269</td>\n",
       "      <td>80</td>\n",
       "      <td>Medium</td>\n",
       "      <td>59</td>\n",
       "      <td>12</td>\n",
       "      <td>Yes</td>\n",
       "      <td>Yes</td>\n",
       "    </tr>\n",
       "    <tr>\n",
       "      <th>3</th>\n",
       "      <td>7.40</td>\n",
       "      <td>117</td>\n",
       "      <td>100</td>\n",
       "      <td>4</td>\n",
       "      <td>466</td>\n",
       "      <td>97</td>\n",
       "      <td>Medium</td>\n",
       "      <td>55</td>\n",
       "      <td>14</td>\n",
       "      <td>Yes</td>\n",
       "      <td>Yes</td>\n",
       "    </tr>\n",
       "    <tr>\n",
       "      <th>4</th>\n",
       "      <td>4.15</td>\n",
       "      <td>141</td>\n",
       "      <td>64</td>\n",
       "      <td>3</td>\n",
       "      <td>340</td>\n",
       "      <td>128</td>\n",
       "      <td>Bad</td>\n",
       "      <td>38</td>\n",
       "      <td>13</td>\n",
       "      <td>Yes</td>\n",
       "      <td>No</td>\n",
       "    </tr>\n",
       "  </tbody>\n",
       "</table>\n",
       "</div>"
      ],
      "text/plain": [
       "   Sales  CompPrice  Income  Advertising  Population  Price ShelveLoc  Age  \\\n",
       "0   9.50        138      73           11         276    120       Bad   42   \n",
       "1  11.22        111      48           16         260     83      Good   65   \n",
       "2  10.06        113      35           10         269     80    Medium   59   \n",
       "3   7.40        117     100            4         466     97    Medium   55   \n",
       "4   4.15        141      64            3         340    128       Bad   38   \n",
       "\n",
       "   Education Urban   US  \n",
       "0         17   Yes  Yes  \n",
       "1         10   Yes  Yes  \n",
       "2         12   Yes  Yes  \n",
       "3         14   Yes  Yes  \n",
       "4         13   Yes   No  "
      ]
     },
     "execution_count": 6,
     "metadata": {},
     "output_type": "execute_result"
    }
   ],
   "source": [
    "company.head()"
   ]
  },
  {
   "cell_type": "code",
   "execution_count": 7,
   "id": "517ab758",
   "metadata": {
    "ExecuteTime": {
     "end_time": "2021-09-06T10:24:38.961295Z",
     "start_time": "2021-09-06T10:24:38.953532Z"
    }
   },
   "outputs": [
    {
     "data": {
      "text/plain": [
       "Sales          float64\n",
       "CompPrice        int64\n",
       "Income           int64\n",
       "Advertising      int64\n",
       "Population       int64\n",
       "Price            int64\n",
       "ShelveLoc       object\n",
       "Age              int64\n",
       "Education        int64\n",
       "Urban           object\n",
       "US              object\n",
       "dtype: object"
      ]
     },
     "execution_count": 7,
     "metadata": {},
     "output_type": "execute_result"
    }
   ],
   "source": [
    "company.dtypes"
   ]
  },
  {
   "cell_type": "code",
   "execution_count": 8,
   "id": "002e1b6c",
   "metadata": {
    "ExecuteTime": {
     "end_time": "2021-09-06T10:24:53.938094Z",
     "start_time": "2021-09-06T10:24:53.894514Z"
    }
   },
   "outputs": [
    {
     "data": {
      "text/html": [
       "<div>\n",
       "<style scoped>\n",
       "    .dataframe tbody tr th:only-of-type {\n",
       "        vertical-align: middle;\n",
       "    }\n",
       "\n",
       "    .dataframe tbody tr th {\n",
       "        vertical-align: top;\n",
       "    }\n",
       "\n",
       "    .dataframe thead th {\n",
       "        text-align: right;\n",
       "    }\n",
       "</style>\n",
       "<table border=\"1\" class=\"dataframe\">\n",
       "  <thead>\n",
       "    <tr style=\"text-align: right;\">\n",
       "      <th></th>\n",
       "      <th>Sales</th>\n",
       "      <th>CompPrice</th>\n",
       "      <th>Income</th>\n",
       "      <th>Advertising</th>\n",
       "      <th>Population</th>\n",
       "      <th>Price</th>\n",
       "      <th>ShelveLoc</th>\n",
       "      <th>Age</th>\n",
       "      <th>Education</th>\n",
       "      <th>Urban</th>\n",
       "      <th>US</th>\n",
       "      <th>High</th>\n",
       "    </tr>\n",
       "  </thead>\n",
       "  <tbody>\n",
       "    <tr>\n",
       "      <th>0</th>\n",
       "      <td>9.50</td>\n",
       "      <td>138</td>\n",
       "      <td>73</td>\n",
       "      <td>11</td>\n",
       "      <td>276</td>\n",
       "      <td>120</td>\n",
       "      <td>Bad</td>\n",
       "      <td>42</td>\n",
       "      <td>17</td>\n",
       "      <td>Yes</td>\n",
       "      <td>Yes</td>\n",
       "      <td>1</td>\n",
       "    </tr>\n",
       "    <tr>\n",
       "      <th>1</th>\n",
       "      <td>11.22</td>\n",
       "      <td>111</td>\n",
       "      <td>48</td>\n",
       "      <td>16</td>\n",
       "      <td>260</td>\n",
       "      <td>83</td>\n",
       "      <td>Good</td>\n",
       "      <td>65</td>\n",
       "      <td>10</td>\n",
       "      <td>Yes</td>\n",
       "      <td>Yes</td>\n",
       "      <td>1</td>\n",
       "    </tr>\n",
       "    <tr>\n",
       "      <th>2</th>\n",
       "      <td>10.06</td>\n",
       "      <td>113</td>\n",
       "      <td>35</td>\n",
       "      <td>10</td>\n",
       "      <td>269</td>\n",
       "      <td>80</td>\n",
       "      <td>Medium</td>\n",
       "      <td>59</td>\n",
       "      <td>12</td>\n",
       "      <td>Yes</td>\n",
       "      <td>Yes</td>\n",
       "      <td>1</td>\n",
       "    </tr>\n",
       "    <tr>\n",
       "      <th>3</th>\n",
       "      <td>7.40</td>\n",
       "      <td>117</td>\n",
       "      <td>100</td>\n",
       "      <td>4</td>\n",
       "      <td>466</td>\n",
       "      <td>97</td>\n",
       "      <td>Medium</td>\n",
       "      <td>55</td>\n",
       "      <td>14</td>\n",
       "      <td>Yes</td>\n",
       "      <td>Yes</td>\n",
       "      <td>0</td>\n",
       "    </tr>\n",
       "    <tr>\n",
       "      <th>4</th>\n",
       "      <td>4.15</td>\n",
       "      <td>141</td>\n",
       "      <td>64</td>\n",
       "      <td>3</td>\n",
       "      <td>340</td>\n",
       "      <td>128</td>\n",
       "      <td>Bad</td>\n",
       "      <td>38</td>\n",
       "      <td>13</td>\n",
       "      <td>Yes</td>\n",
       "      <td>No</td>\n",
       "      <td>0</td>\n",
       "    </tr>\n",
       "  </tbody>\n",
       "</table>\n",
       "</div>"
      ],
      "text/plain": [
       "   Sales  CompPrice  Income  Advertising  Population  Price ShelveLoc  Age  \\\n",
       "0   9.50        138      73           11         276    120       Bad   42   \n",
       "1  11.22        111      48           16         260     83      Good   65   \n",
       "2  10.06        113      35           10         269     80    Medium   59   \n",
       "3   7.40        117     100            4         466     97    Medium   55   \n",
       "4   4.15        141      64            3         340    128       Bad   38   \n",
       "\n",
       "   Education Urban   US  High  \n",
       "0         17   Yes  Yes     1  \n",
       "1         10   Yes  Yes     1  \n",
       "2         12   Yes  Yes     1  \n",
       "3         14   Yes  Yes     0  \n",
       "4         13   Yes   No     0  "
      ]
     },
     "execution_count": 8,
     "metadata": {},
     "output_type": "execute_result"
    }
   ],
   "source": [
    "company['High'] = company.Sales.map(lambda x: 1 if x>8 else 0)\n",
    "company['ShelveLoc']=company['ShelveLoc'].astype('category')\n",
    "company['Urban']=company['Urban'].astype('category')\n",
    "company['US']=company['US'].astype('category')\n",
    "company.dtypes\n",
    "company.head()"
   ]
  },
  {
   "cell_type": "code",
   "execution_count": 9,
   "id": "72d25ca3",
   "metadata": {
    "ExecuteTime": {
     "end_time": "2021-09-06T10:25:08.302893Z",
     "start_time": "2021-09-06T10:25:08.269346Z"
    }
   },
   "outputs": [
    {
     "data": {
      "text/html": [
       "<div>\n",
       "<style scoped>\n",
       "    .dataframe tbody tr th:only-of-type {\n",
       "        vertical-align: middle;\n",
       "    }\n",
       "\n",
       "    .dataframe tbody tr th {\n",
       "        vertical-align: top;\n",
       "    }\n",
       "\n",
       "    .dataframe thead th {\n",
       "        text-align: right;\n",
       "    }\n",
       "</style>\n",
       "<table border=\"1\" class=\"dataframe\">\n",
       "  <thead>\n",
       "    <tr style=\"text-align: right;\">\n",
       "      <th></th>\n",
       "      <th>Sales</th>\n",
       "      <th>CompPrice</th>\n",
       "      <th>Income</th>\n",
       "      <th>Advertising</th>\n",
       "      <th>Population</th>\n",
       "      <th>Price</th>\n",
       "      <th>ShelveLoc</th>\n",
       "      <th>Age</th>\n",
       "      <th>Education</th>\n",
       "      <th>Urban</th>\n",
       "      <th>US</th>\n",
       "      <th>High</th>\n",
       "    </tr>\n",
       "  </thead>\n",
       "  <tbody>\n",
       "    <tr>\n",
       "      <th>395</th>\n",
       "      <td>12.57</td>\n",
       "      <td>138</td>\n",
       "      <td>108</td>\n",
       "      <td>17</td>\n",
       "      <td>203</td>\n",
       "      <td>128</td>\n",
       "      <td>1</td>\n",
       "      <td>33</td>\n",
       "      <td>14</td>\n",
       "      <td>1</td>\n",
       "      <td>1</td>\n",
       "      <td>1</td>\n",
       "    </tr>\n",
       "    <tr>\n",
       "      <th>396</th>\n",
       "      <td>6.14</td>\n",
       "      <td>139</td>\n",
       "      <td>23</td>\n",
       "      <td>3</td>\n",
       "      <td>37</td>\n",
       "      <td>120</td>\n",
       "      <td>2</td>\n",
       "      <td>55</td>\n",
       "      <td>11</td>\n",
       "      <td>0</td>\n",
       "      <td>1</td>\n",
       "      <td>0</td>\n",
       "    </tr>\n",
       "    <tr>\n",
       "      <th>397</th>\n",
       "      <td>7.41</td>\n",
       "      <td>162</td>\n",
       "      <td>26</td>\n",
       "      <td>12</td>\n",
       "      <td>368</td>\n",
       "      <td>159</td>\n",
       "      <td>2</td>\n",
       "      <td>40</td>\n",
       "      <td>18</td>\n",
       "      <td>1</td>\n",
       "      <td>1</td>\n",
       "      <td>0</td>\n",
       "    </tr>\n",
       "    <tr>\n",
       "      <th>398</th>\n",
       "      <td>5.94</td>\n",
       "      <td>100</td>\n",
       "      <td>79</td>\n",
       "      <td>7</td>\n",
       "      <td>284</td>\n",
       "      <td>95</td>\n",
       "      <td>0</td>\n",
       "      <td>50</td>\n",
       "      <td>12</td>\n",
       "      <td>1</td>\n",
       "      <td>1</td>\n",
       "      <td>0</td>\n",
       "    </tr>\n",
       "    <tr>\n",
       "      <th>399</th>\n",
       "      <td>9.71</td>\n",
       "      <td>134</td>\n",
       "      <td>37</td>\n",
       "      <td>0</td>\n",
       "      <td>27</td>\n",
       "      <td>120</td>\n",
       "      <td>1</td>\n",
       "      <td>49</td>\n",
       "      <td>16</td>\n",
       "      <td>1</td>\n",
       "      <td>1</td>\n",
       "      <td>1</td>\n",
       "    </tr>\n",
       "  </tbody>\n",
       "</table>\n",
       "</div>"
      ],
      "text/plain": [
       "     Sales  CompPrice  Income  Advertising  Population  Price  ShelveLoc  Age  \\\n",
       "395  12.57        138     108           17         203    128          1   33   \n",
       "396   6.14        139      23            3          37    120          2   55   \n",
       "397   7.41        162      26           12         368    159          2   40   \n",
       "398   5.94        100      79            7         284     95          0   50   \n",
       "399   9.71        134      37            0          27    120          1   49   \n",
       "\n",
       "     Education  Urban  US  High  \n",
       "395         14      1   1     1  \n",
       "396         11      0   1     0  \n",
       "397         18      1   1     0  \n",
       "398         12      1   1     0  \n",
       "399         16      1   1     1  "
      ]
     },
     "execution_count": 9,
     "metadata": {},
     "output_type": "execute_result"
    }
   ],
   "source": [
    "company['ShelveLoc']=company['ShelveLoc'].cat.codes\n",
    "company['Urban']=company['Urban'].cat.codes\n",
    "company['US']=company['US'].cat.codes\n",
    "company.tail()"
   ]
  },
  {
   "cell_type": "code",
   "execution_count": 13,
   "id": "0739ee51",
   "metadata": {
    "ExecuteTime": {
     "end_time": "2021-09-06T10:26:03.792871Z",
     "start_time": "2021-09-06T10:26:03.784013Z"
    }
   },
   "outputs": [],
   "source": [
    "feature_cols=['CompPrice','Income','Advertising','Population','Price','ShelveLoc','Age','Education','Urban','US']"
   ]
  },
  {
   "cell_type": "code",
   "execution_count": 31,
   "id": "ac0f1fa0",
   "metadata": {
    "ExecuteTime": {
     "end_time": "2021-09-06T10:37:04.902640Z",
     "start_time": "2021-09-06T10:37:04.889156Z"
    }
   },
   "outputs": [
    {
     "name": "stdout",
     "output_type": "stream",
     "text": [
      "     CompPrice  Income  Advertising  Population  Price  ShelveLoc  Age  \\\n",
      "0          138      73           11         276    120          0   42   \n",
      "1          111      48           16         260     83          1   65   \n",
      "2          113      35           10         269     80          2   59   \n",
      "3          117     100            4         466     97          2   55   \n",
      "4          141      64            3         340    128          0   38   \n",
      "..         ...     ...          ...         ...    ...        ...  ...   \n",
      "395        138     108           17         203    128          1   33   \n",
      "396        139      23            3          37    120          2   55   \n",
      "397        162      26           12         368    159          2   40   \n",
      "398        100      79            7         284     95          0   50   \n",
      "399        134      37            0          27    120          1   49   \n",
      "\n",
      "     Education  Urban  US  \n",
      "0           17      1   1  \n",
      "1           10      1   1  \n",
      "2           12      1   1  \n",
      "3           14      1   1  \n",
      "4           13      1   0  \n",
      "..         ...    ...  ..  \n",
      "395         14      1   1  \n",
      "396         11      0   1  \n",
      "397         18      1   1  \n",
      "398         12      1   1  \n",
      "399         16      1   1  \n",
      "\n",
      "[400 rows x 10 columns]\n"
     ]
    }
   ],
   "source": [
    "x = company[feature_cols]\n",
    "y = company.High\n",
    "print(x)\n"
   ]
  },
  {
   "cell_type": "code",
   "execution_count": 30,
   "id": "e6ba7eba",
   "metadata": {
    "ExecuteTime": {
     "end_time": "2021-09-06T10:37:00.486059Z",
     "start_time": "2021-09-06T10:37:00.475781Z"
    }
   },
   "outputs": [
    {
     "name": "stdout",
     "output_type": "stream",
     "text": [
      "0      1\n",
      "1      1\n",
      "2      1\n",
      "3      0\n",
      "4      0\n",
      "      ..\n",
      "395    1\n",
      "396    0\n",
      "397    0\n",
      "398    0\n",
      "399    1\n",
      "Name: High, Length: 400, dtype: int64\n"
     ]
    }
   ],
   "source": [
    "print(y)"
   ]
  },
  {
   "cell_type": "code",
   "execution_count": 15,
   "id": "c96264ab",
   "metadata": {
    "ExecuteTime": {
     "end_time": "2021-09-06T10:26:29.053741Z",
     "start_time": "2021-09-06T10:26:28.991065Z"
    }
   },
   "outputs": [],
   "source": [
    "x_train,x_test,y_train,y_test= train_test_split(x,y, test_size=0.2,random_state=0)"
   ]
  },
  {
   "cell_type": "code",
   "execution_count": 24,
   "id": "5d3c6185",
   "metadata": {
    "ExecuteTime": {
     "end_time": "2021-09-06T10:30:31.033130Z",
     "start_time": "2021-09-06T10:30:31.011538Z"
    }
   },
   "outputs": [],
   "source": [
    "dcmodel =  BaggingClassifier(DecisionTreeClassifier(max_depth = 6), random_state=0) \n",
    "dcmodel =  AdaBoostClassifier(DecisionTreeClassifier(max_depth = 6), random_state=0)\n"
   ]
  },
  {
   "cell_type": "code",
   "execution_count": 25,
   "id": "f74ef967",
   "metadata": {
    "ExecuteTime": {
     "end_time": "2021-09-06T10:30:33.207576Z",
     "start_time": "2021-09-06T10:30:33.200949Z"
    }
   },
   "outputs": [
    {
     "data": {
      "text/plain": [
       "AdaBoostClassifier(base_estimator=DecisionTreeClassifier(max_depth=6),\n",
       "                   random_state=0)"
      ]
     },
     "execution_count": 25,
     "metadata": {},
     "output_type": "execute_result"
    }
   ],
   "source": [
    "dcmodel"
   ]
  },
  {
   "cell_type": "code",
   "execution_count": null,
   "id": "55f7e3a7",
   "metadata": {},
   "outputs": [],
   "source": [
    "dcmodel = dcmodel.fit(x_train,y_train) \n",
    "y_predict = dcmodel.predict(x_test)"
   ]
  },
  {
   "cell_type": "code",
   "execution_count": 45,
   "id": "903609e1",
   "metadata": {
    "ExecuteTime": {
     "end_time": "2021-09-06T10:44:09.320926Z",
     "start_time": "2021-09-06T10:44:09.307969Z"
    }
   },
   "outputs": [
    {
     "name": "stdout",
     "output_type": "stream",
     "text": [
      "Accuracy :  75.0\n"
     ]
    }
   ],
   "source": [
    "print(\"Accuracy : \", accuracy_score(y_test,y_predict)*100 )"
   ]
  },
  {
   "cell_type": "code",
   "execution_count": 26,
   "id": "c5e2c288",
   "metadata": {
    "ExecuteTime": {
     "end_time": "2021-09-06T10:32:15.316211Z",
     "start_time": "2021-09-06T10:32:15.300329Z"
    }
   },
   "outputs": [
    {
     "data": {
      "text/plain": [
       "DecisionTreeClassifier(criterion='entropy', max_depth=3)"
      ]
     },
     "execution_count": 26,
     "metadata": {},
     "output_type": "execute_result"
    }
   ],
   "source": [
    "dcmodel = DecisionTreeClassifier(criterion = 'entropy', max_depth=3)\n",
    "dcmodel.fit(x_train, y_train)"
   ]
  },
  {
   "cell_type": "code",
   "execution_count": 28,
   "id": "962cca05",
   "metadata": {
    "ExecuteTime": {
     "end_time": "2021-09-06T10:33:02.772754Z",
     "start_time": "2021-09-06T10:33:02.762256Z"
    }
   },
   "outputs": [],
   "source": [
    "from sklearn import tree"
   ]
  },
  {
   "cell_type": "code",
   "execution_count": 29,
   "id": "ba82c12c",
   "metadata": {
    "ExecuteTime": {
     "end_time": "2021-09-06T10:33:07.477136Z",
     "start_time": "2021-09-06T10:33:05.147090Z"
    }
   },
   "outputs": [
    {
     "data": {
      "text/plain": [
       "[Text(167.4, 190.26, 'X[4] <= 92.5\\nentropy = 0.969\\nsamples = 320\\nvalue = [193, 127]'),\n",
       " Text(83.7, 135.9, 'X[5] <= 0.5\\nentropy = 0.696\\nsamples = 48\\nvalue = [9, 39]'),\n",
       " Text(41.85, 81.53999999999999, 'X[1] <= 57.0\\nentropy = 0.996\\nsamples = 13\\nvalue = [6, 7]'),\n",
       " Text(20.925, 27.180000000000007, 'entropy = 0.0\\nsamples = 5\\nvalue = [5, 0]'),\n",
       " Text(62.775000000000006, 27.180000000000007, 'entropy = 0.544\\nsamples = 8\\nvalue = [1, 7]'),\n",
       " Text(125.55000000000001, 81.53999999999999, 'X[6] <= 56.5\\nentropy = 0.422\\nsamples = 35\\nvalue = [3, 32]'),\n",
       " Text(104.625, 27.180000000000007, 'entropy = 0.0\\nsamples = 21\\nvalue = [0, 21]'),\n",
       " Text(146.475, 27.180000000000007, 'entropy = 0.75\\nsamples = 14\\nvalue = [3, 11]'),\n",
       " Text(251.10000000000002, 135.9, 'X[5] <= 0.5\\nentropy = 0.908\\nsamples = 272\\nvalue = [184, 88]'),\n",
       " Text(209.25, 81.53999999999999, 'X[1] <= 102.5\\nentropy = 0.27\\nsamples = 65\\nvalue = [62, 3]'),\n",
       " Text(188.32500000000002, 27.180000000000007, 'entropy = 0.127\\nsamples = 57\\nvalue = [56, 1]'),\n",
       " Text(230.175, 27.180000000000007, 'entropy = 0.811\\nsamples = 8\\nvalue = [6, 2]'),\n",
       " Text(292.95, 81.53999999999999, 'X[2] <= 6.5\\nentropy = 0.977\\nsamples = 207\\nvalue = [122, 85]'),\n",
       " Text(272.02500000000003, 27.180000000000007, 'entropy = 0.776\\nsamples = 105\\nvalue = [81, 24]'),\n",
       " Text(313.875, 27.180000000000007, 'entropy = 0.972\\nsamples = 102\\nvalue = [41, 61]')]"
      ]
     },
     "execution_count": 29,
     "metadata": {},
     "output_type": "execute_result"
    },
    {
     "data": {
      "image/png": "[encoded data removed]",
      "text/plain": [
       "<Figure size 432x288 with 1 Axes>"
      ]
     },
     "metadata": {
      "needs_background": "light"
     },
     "output_type": "display_data"
    }
   ],
   "source": [
    "tree.plot_tree(dcmodel)"
   ]
  },
  {
   "cell_type": "code",
   "execution_count": 40,
   "id": "d87a3b8b",
   "metadata": {
    "ExecuteTime": {
     "end_time": "2021-09-06T10:41:54.757669Z",
     "start_time": "2021-09-06T10:41:44.525971Z"
    }
   },
   "outputs": [],
   "source": [
    "import pandas as pd\n",
    "import matplotlib.pyplot as plt\n",
    "from sklearn import datasets  \n",
    "import numpy as np\n",
    "from sklearn.model_selection import train_test_split\n",
    "from sklearn.tree import  DecisionTreeClassifier\n",
    "from sklearn import tree\n",
    "from sklearn.metrics import classification_report\n",
    "from sklearn import preprocessing "
   ]
  },
  {
   "cell_type": "code",
   "execution_count": 42,
   "id": "98801485",
   "metadata": {
    "ExecuteTime": {
     "end_time": "2021-09-06T10:42:22.666039Z",
     "start_time": "2021-09-06T10:42:21.943549Z"
    }
   },
   "outputs": [
    {
     "data": {
      "image/png": "[encoded data removed]",
      "text/plain": [
       "<Figure size 1200x1200 with 1 Axes>"
      ]
     },
     "metadata": {
      "needs_background": "light"
     },
     "output_type": "display_data"
    }
   ],
   "source": [
    "fn=['CompPrice ','Income ',' Advertising','Population ','Price','ShelveLoc','Age']\n",
    "cn=['high','low']\n",
    "fig, axes = plt.subplots(nrows = 1,ncols = 1,figsize = (4,4), dpi=300)\n",
    "tree.plot_tree(dcmodel,\n",
    "               feature_names = fn, \n",
    "               class_names=cn,\n",
    "               filled = True); "
   ]
  },
  {
   "cell_type": "code",
   "execution_count": 43,
   "id": "5da66102",
   "metadata": {
    "ExecuteTime": {
     "end_time": "2021-09-06T10:43:09.851846Z",
     "start_time": "2021-09-06T10:43:09.802148Z"
    }
   },
   "outputs": [
    {
     "data": {
      "text/plain": [
       "0    45\n",
       "1    35\n",
       "dtype: int64"
      ]
     },
     "execution_count": 43,
     "metadata": {},
     "output_type": "execute_result"
    }
   ],
   "source": [
    "preds = dcmodel.predict(x_test) \n",
    "pd.Series(preds).value_counts()"
   ]
  },
  {
   "cell_type": "code",
   "execution_count": 44,
   "id": "3bf87bf1",
   "metadata": {
    "ExecuteTime": {
     "end_time": "2021-09-06T10:43:21.294147Z",
     "start_time": "2021-09-06T10:43:21.286410Z"
    }
   },
   "outputs": [
    {
     "data": {
      "text/plain": [
       "array([1, 1, 0, 0, 0, 0, 1, 0, 0, 0, 0, 0, 0, 1, 0, 0, 1, 1, 0, 0, 1, 0,\n",
       "       0, 0, 0, 1, 0, 0, 1, 0, 1, 1, 1, 0, 0, 1, 0, 0, 0, 0, 1, 1, 0, 1,\n",
       "       0, 1, 1, 1, 0, 1, 0, 0, 0, 1, 0, 1, 0, 0, 1, 0, 0, 1, 0, 0, 1, 0,\n",
       "       1, 1, 1, 1, 1, 0, 1, 0, 0, 1, 0, 1, 1, 1], dtype=int64)"
      ]
     },
     "execution_count": 44,
     "metadata": {},
     "output_type": "execute_result"
    }
   ],
   "source": [
    "preds "
   ]
  },
  {
   "cell_type": "code",
   "execution_count": 46,
   "id": "afa4f7cd",
   "metadata": {
    "ExecuteTime": {
     "end_time": "2021-09-06T10:44:54.680995Z",
     "start_time": "2021-09-06T10:44:54.480758Z"
    }
   },
   "outputs": [
    {
     "data": {
      "text/html": [
       "<div>\n",
       "<style scoped>\n",
       "    .dataframe tbody tr th:only-of-type {\n",
       "        vertical-align: middle;\n",
       "    }\n",
       "\n",
       "    .dataframe tbody tr th {\n",
       "        vertical-align: top;\n",
       "    }\n",
       "\n",
       "    .dataframe thead th {\n",
       "        text-align: right;\n",
       "    }\n",
       "</style>\n",
       "<table border=\"1\" class=\"dataframe\">\n",
       "  <thead>\n",
       "    <tr style=\"text-align: right;\">\n",
       "      <th>col_0</th>\n",
       "      <th>0</th>\n",
       "      <th>1</th>\n",
       "    </tr>\n",
       "    <tr>\n",
       "      <th>High</th>\n",
       "      <th></th>\n",
       "      <th></th>\n",
       "    </tr>\n",
       "  </thead>\n",
       "  <tbody>\n",
       "    <tr>\n",
       "      <th>0</th>\n",
       "      <td>33</td>\n",
       "      <td>10</td>\n",
       "    </tr>\n",
       "    <tr>\n",
       "      <th>1</th>\n",
       "      <td>12</td>\n",
       "      <td>25</td>\n",
       "    </tr>\n",
       "  </tbody>\n",
       "</table>\n",
       "</div>"
      ],
      "text/plain": [
       "col_0   0   1\n",
       "High         \n",
       "0      33  10\n",
       "1      12  25"
      ]
     },
     "execution_count": 46,
     "metadata": {},
     "output_type": "execute_result"
    }
   ],
   "source": [
    "pd.crosstab(y_test,preds)"
   ]
  },
  {
   "cell_type": "code",
   "execution_count": 47,
   "id": "88807c45",
   "metadata": {
    "ExecuteTime": {
     "end_time": "2021-09-06T10:45:07.585912Z",
     "start_time": "2021-09-06T10:45:07.507551Z"
    }
   },
   "outputs": [
    {
     "data": {
      "text/plain": [
       "0.725"
      ]
     },
     "execution_count": 47,
     "metadata": {},
     "output_type": "execute_result"
    }
   ],
   "source": [
    "np.mean(preds==y_test)"
   ]
  },
  {
   "cell_type": "code",
   "execution_count": 19,
   "id": "6c0f4701",
   "metadata": {
    "ExecuteTime": {
     "end_time": "2021-09-06T10:27:39.369221Z",
     "start_time": "2021-09-06T10:27:39.351755Z"
    }
   },
   "outputs": [
    {
     "name": "stdout",
     "output_type": "stream",
     "text": [
      "[[36  7]\n",
      " [13 24]]\n"
     ]
    }
   ],
   "source": [
    "print(confusion_matrix(y_test,y_predict))"
   ]
  },
  {
   "cell_type": "code",
   "execution_count": 20,
   "id": "4366ac55",
   "metadata": {
    "ExecuteTime": {
     "end_time": "2021-09-06T10:27:55.888894Z",
     "start_time": "2021-09-06T10:27:55.874291Z"
    }
   },
   "outputs": [
    {
     "name": "stdout",
     "output_type": "stream",
     "text": [
      "              precision    recall  f1-score   support\n",
      "\n",
      "           0       0.73      0.84      0.78        43\n",
      "           1       0.77      0.65      0.71        37\n",
      "\n",
      "    accuracy                           0.75        80\n",
      "   macro avg       0.75      0.74      0.74        80\n",
      "weighted avg       0.75      0.75      0.75        80\n",
      "\n"
     ]
    }
   ],
   "source": [
    "print(classification_report(y_test,y_predict))\n"
   ]
  },
  {
   "cell_type": "code",
   "execution_count": null,
   "id": "415def3c",
   "metadata": {},
   "outputs": [],
   "source": []
  },
  {
   "cell_type": "code",
   "execution_count": null,
   "id": "4ab44120",
   "metadata": {},
   "outputs": [],
   "source": []
  },
  {
   "cell_type": "code",
   "execution_count": null,
   "id": "54154ec7",
   "metadata": {},
   "outputs": [],
   "source": []
  }
 ],
 "metadata": {
  "kernelspec": {
   "display_name": "Python 3",
   "language": "python",
   "name": "python3"
  },
  "language_info": {
   "codemirror_mode": {
    "name": "ipython",
    "version": 3
   },
   "file_extension": ".py",
   "mimetype": "text/x-python",
   "name": "python",
   "nbconvert_exporter": "python",
   "pygments_lexer": "ipython3",
   "version": "3.8.8"
  },
  "varInspector": {
   "cols": {
    "lenName": 16,
    "lenType": 16,
    "lenVar": 40
   },
   "kernels_config": {
    "python": {
     "delete_cmd_postfix": "",
     "delete_cmd_prefix": "del ",
     "library": "var_list.py",
     "varRefreshCmd": "print(var_dic_list())"
    },
    "r": {
     "delete_cmd_postfix": ") ",
     "delete_cmd_prefix": "rm(",
     "library": "var_list.r",
     "varRefreshCmd": "cat(var_dic_list()) "
    }
   },
   "types_to_exclude": [
    "module",
    "function",
    "builtin_function_or_method",
    "instance",
    "_Feature"
   ],
   "window_display": false
  }
 },
 "nbformat": 4,
 "nbformat_minor": 5
}
